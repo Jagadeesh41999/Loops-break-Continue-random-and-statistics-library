{
 "cells": [
  {
   "cell_type": "code",
   "execution_count": 1,
   "id": "adeb5fb7",
   "metadata": {},
   "outputs": [
    {
     "name": "stdout",
     "output_type": "stream",
     "text": [
      "0\n",
      "1\n",
      "2\n",
      "3\n",
      "4\n",
      "5\n",
      "6\n",
      "7\n",
      "8\n",
      "9\n"
     ]
    }
   ],
   "source": [
    "for i in range(10):\n",
    "    print(i)"
   ]
  },
  {
   "cell_type": "code",
   "execution_count": 5,
   "id": "eb0238d3",
   "metadata": {},
   "outputs": [
    {
     "name": "stdout",
     "output_type": "stream",
     "text": [
      "How many can do you need?15\n",
      "15 cans\n"
     ]
    }
   ],
   "source": [
    "avm=100\n",
    "x=int(input(\"How many can do you need?\"))\n",
    "if x<=avm:\n",
    "    print(x,\"cans\")\n",
    "else:\n",
    "    print(\"Bye, No of cans availabel are {}. Please enter cans below the available\".format(avm))\n",
    "    \n",
    "    \n",
    "\n",
    "    \n"
   ]
  },
  {
   "cell_type": "markdown",
   "id": "b32fc996",
   "metadata": {},
   "source": [
    "**Break**\n"
   ]
  },
  {
   "cell_type": "code",
   "execution_count": 16,
   "id": "84bf72fa",
   "metadata": {},
   "outputs": [
    {
     "name": "stdout",
     "output_type": "stream",
     "text": [
      "Please enter numbers to print 40\n",
      " loop is came out\n"
     ]
    }
   ],
   "source": [
    "i=1\n",
    "x=int(input(\"Please enter numbers to print \"))\n",
    "while i<=x:\n",
    "    print(i ,end=\" \")\n",
    "    i=i+1\n",
    "    if i==20:\n",
    "        break\n",
    "print(' loop is came out')\n",
    "    \n",
    "        "
   ]
  },
  {
   "cell_type": "markdown",
   "id": "4ed39502",
   "metadata": {},
   "source": [
    "**Continue**\n"
   ]
  },
  {
   "cell_type": "code",
   "execution_count": 18,
   "id": "547a87e8",
   "metadata": {},
   "outputs": [
    {
     "name": "stdout",
     "output_type": "stream",
     "text": [
      "please enter a number10\n",
      "9 8 7 6 4 3 2 1 0 bye\n"
     ]
    }
   ],
   "source": [
    "v=int(input(\"please enter a number \"))\n",
    "while v>0:\n",
    "    v=v-1\n",
    "    if v==5:\n",
    "        continue\n",
    "    print(v,end=\" \")\n",
    "print('bye')"
   ]
  },
  {
   "cell_type": "code",
   "execution_count": 20,
   "id": "788e061a",
   "metadata": {},
   "outputs": [
    {
     "name": "stdout",
     "output_type": "stream",
     "text": [
      "Enter the quantity 1\n",
      "Order for 1 Phones was placed\n"
     ]
    }
   ],
   "source": [
    "inventory=100\n",
    "x=int(input(\"Enter the quantity \"))\n",
    "if x<=2:\n",
    "    while x<=inventory:\n",
    "        print('Order for',x,'Phones was placed')\n",
    "        break\n",
    "    if x>inventory:\n",
    "        print('Out of stock')\n",
    "else:\n",
    "    print(\"Out of individual order limit\")\n",
    "    "
   ]
  },
  {
   "cell_type": "markdown",
   "id": "e920e93a",
   "metadata": {},
   "source": [
    "**Continue**\n"
   ]
  },
  {
   "cell_type": "code",
   "execution_count": 22,
   "id": "ef5d1ac4",
   "metadata": {},
   "outputs": [
    {
     "name": "stdout",
     "output_type": "stream",
     "text": [
      "2 4 6 8 10 12 14 16 18 20 22 24 26 28 30 32 34 36 38 40 42 44 46 48 50 52 54 56 58 60 62 64 66 68 70 72 74 76 78 80 82 84 86 88 90 92 94 96 98 100 "
     ]
    }
   ],
   "source": [
    "for i in range(1,101):\n",
    "    if(i%2!=0):\n",
    "        continue\n",
    "    else:\n",
    "        print(i, end=\" \")"
   ]
  },
  {
   "cell_type": "markdown",
   "id": "6976e0a8",
   "metadata": {},
   "source": [
    "**Pass**"
   ]
  },
  {
   "cell_type": "code",
   "execution_count": 23,
   "id": "bec75b28",
   "metadata": {},
   "outputs": [
    {
     "name": "stdout",
     "output_type": "stream",
     "text": [
      "2 4 6 8 10 12 14 16 18 20 22 24 26 28 30 32 34 36 38 40 42 44 46 48 50 52 54 56 58 60 62 64 66 68 70 72 74 76 78 80 82 84 86 88 90 92 94 96 98 100 "
     ]
    }
   ],
   "source": [
    "for i in range(1,101):\n",
    "    if(i%2!=0):\n",
    "        pass\n",
    "    else:\n",
    "        print(i, end=\" \")"
   ]
  },
  {
   "cell_type": "code",
   "execution_count": 25,
   "id": "672ce55b",
   "metadata": {},
   "outputs": [
    {
     "name": "stdout",
     "output_type": "stream",
     "text": [
      "3 5 6 9 10 12 15 18 20 21 24 25 27 30 33 35 36 39 40 42 45 48 50 51 54 55 57 60 63 65 66 69 70 72 75 78 80 81 84 85 87 90 93 95 96 99 100 "
     ]
    }
   ],
   "source": [
    "for i in range(1,101):\n",
    "    if i%3==0 or i%5==0:\n",
    "        print(i, end=\" \")"
   ]
  },
  {
   "cell_type": "markdown",
   "id": "c0c42774",
   "metadata": {},
   "source": [
    "**Check Prime Number or not**\n"
   ]
  },
  {
   "cell_type": "code",
   "execution_count": 7,
   "id": "3b4f2eba",
   "metadata": {},
   "outputs": [
    {
     "name": "stdout",
     "output_type": "stream",
     "text": [
      "Enter a number to check whether it is prime or not7\n",
      "Number is prime\n"
     ]
    }
   ],
   "source": [
    "count=0\n",
    "x=int(input(\"Enter a number to check whether it is prime or not\"))\n",
    "for i in range(2,x):\n",
    "    if x%i==0:\n",
    "        count=count+1\n",
    "\n",
    "if count>=1:\n",
    "    print(\"Number is not prime\")\n",
    "else:\n",
    "    print(\"Number is prime\")\n"
   ]
  },
  {
   "cell_type": "code",
   "execution_count": null,
   "id": "479398db",
   "metadata": {},
   "outputs": [],
   "source": [
    "\n",
    "    "
   ]
  },
  {
   "cell_type": "code",
   "execution_count": 16,
   "id": "9a7035ea",
   "metadata": {},
   "outputs": [
    {
     "name": "stdout",
     "output_type": "stream",
     "text": [
      "Enter Name: ········\n",
      "Entered name is: jagadeesh\n"
     ]
    }
   ],
   "source": [
    "import getpass\n",
    "name=getpass.getpass(\"Enter Name: \")\n",
    "print(\"Entered name is:\",name)\n",
    "\n"
   ]
  },
  {
   "cell_type": "code",
   "execution_count": 17,
   "id": "293a896a",
   "metadata": {},
   "outputs": [],
   "source": []
  },
  {
   "cell_type": "code",
   "execution_count": 18,
   "id": "87a21faf",
   "metadata": {},
   "outputs": [],
   "source": [
    "import pandas as pd\n"
   ]
  },
  {
   "cell_type": "code",
   "execution_count": 30,
   "id": "dd539885",
   "metadata": {},
   "outputs": [],
   "source": [
    "data=pd.read_excel(r\"C:\\Users\\HP\\Desktop\\data.xlsx\")"
   ]
  },
  {
   "cell_type": "code",
   "execution_count": 31,
   "id": "aca2e799",
   "metadata": {},
   "outputs": [
    {
     "data": {
      "text/html": [
       "<div>\n",
       "<style scoped>\n",
       "    .dataframe tbody tr th:only-of-type {\n",
       "        vertical-align: middle;\n",
       "    }\n",
       "\n",
       "    .dataframe tbody tr th {\n",
       "        vertical-align: top;\n",
       "    }\n",
       "\n",
       "    .dataframe thead th {\n",
       "        text-align: right;\n",
       "    }\n",
       "</style>\n",
       "<table border=\"1\" class=\"dataframe\">\n",
       "  <thead>\n",
       "    <tr style=\"text-align: right;\">\n",
       "      <th></th>\n",
       "      <th>ID</th>\n",
       "      <th>Name</th>\n",
       "    </tr>\n",
       "  </thead>\n",
       "  <tbody>\n",
       "    <tr>\n",
       "      <th>0</th>\n",
       "      <td>20MBAR0186</td>\n",
       "      <td>k.Jagadeesh</td>\n",
       "    </tr>\n",
       "    <tr>\n",
       "      <th>1</th>\n",
       "      <td>20MBAR0079</td>\n",
       "      <td>Raj Sankar</td>\n",
       "    </tr>\n",
       "    <tr>\n",
       "      <th>2</th>\n",
       "      <td>20MBAR0166</td>\n",
       "      <td>Tanmay Jain</td>\n",
       "    </tr>\n",
       "  </tbody>\n",
       "</table>\n",
       "</div>"
      ],
      "text/plain": [
       "           ID         Name\n",
       "0  20MBAR0186  k.Jagadeesh\n",
       "1  20MBAR0079   Raj Sankar\n",
       "2  20MBAR0166  Tanmay Jain"
      ]
     },
     "execution_count": 31,
     "metadata": {},
     "output_type": "execute_result"
    }
   ],
   "source": [
    "data"
   ]
  },
  {
   "cell_type": "code",
   "execution_count": 57,
   "id": "7492e65a",
   "metadata": {},
   "outputs": [
    {
     "name": "stdout",
     "output_type": "stream",
     "text": [
      "Enter ID: ········\n",
      "Welcome  k.Jagadeesh\n"
     ]
    }
   ],
   "source": [
    "import getpass\n",
    "id=getpass.getpass(\"Enter ID: \")\n",
    "\n",
    "name=data[data.ID==id]['Name']\n",
    "print(\"Welcome \",name.to_string(index=False))"
   ]
  },
  {
   "cell_type": "code",
   "execution_count": null,
   "id": "724b9844",
   "metadata": {},
   "outputs": [],
   "source": []
  },
  {
   "cell_type": "code",
   "execution_count": 38,
   "id": "10186d9f",
   "metadata": {},
   "outputs": [
    {
     "name": "stdout",
     "output_type": "stream",
     "text": [
      "Please enter Credentials:20MBAR0186\n",
      "Welcome  K.JAGADEESH\n"
     ]
    }
   ],
   "source": [
    "name=\"k.Jagadeesh\"\n",
    "password=\"20MBAR0186\"\n",
    "\n",
    "user=input(\"Please enter Credentials:\")\n",
    "user_id=user.upper()\n",
    "\n",
    "if user_id==password:\n",
    "    print(\"Welcome \",name.upper())\n",
    "else:\n",
    "    print(\"Please input correct id\")"
   ]
  },
  {
   "cell_type": "code",
   "execution_count": 35,
   "id": "0145e43b",
   "metadata": {},
   "outputs": [
    {
     "name": "stdout",
     "output_type": "stream",
     "text": [
      " The random numbers generated by the randrange was:\n",
      "88 35 32 61 86 "
     ]
    }
   ],
   "source": [
    "from random import random,randrange,seed\n",
    "print(' The random numbers generated by the randrange was:')\n",
    "for i in range(0,5):\n",
    "    print(randrange(10,100),end=\" \")"
   ]
  },
  {
   "cell_type": "code",
   "execution_count": 36,
   "id": "e00b01b7",
   "metadata": {},
   "outputs": [
    {
     "name": "stdout",
     "output_type": "stream",
     "text": [
      "Random number is:  0.1456692551041303\n"
     ]
    }
   ],
   "source": [
    "from random import random,randrange,seed\n",
    "seed(100)\n",
    "print(\"Random number is: \",random())"
   ]
  },
  {
   "cell_type": "code",
   "execution_count": 37,
   "id": "13881f8f",
   "metadata": {},
   "outputs": [],
   "source": [
    "import statistics as st"
   ]
  },
  {
   "cell_type": "code",
   "execution_count": 42,
   "id": "d25c3331",
   "metadata": {},
   "outputs": [
    {
     "name": "stdout",
     "output_type": "stream",
     "text": [
      "Mean : 62.42857142857143\n",
      "Mode : 25\n",
      "Harmonic Mean: 52.79883066739209\n"
     ]
    }
   ],
   "source": [
    "x=[25,45,68,98,78,65,58]\n",
    "print(\"Mean :\", st.mean(x))\n",
    "print(\"Mode :\", st.mode(x))\n",
    "print(\"Harmonic Mean:\",st.harmonic_mean(x))"
   ]
  },
  {
   "cell_type": "code",
   "execution_count": null,
   "id": "38fb62c1",
   "metadata": {},
   "outputs": [],
   "source": []
  }
 ],
 "metadata": {
  "kernelspec": {
   "display_name": "Python 3",
   "language": "python",
   "name": "python3"
  },
  "language_info": {
   "codemirror_mode": {
    "name": "ipython",
    "version": 3
   },
   "file_extension": ".py",
   "mimetype": "text/x-python",
   "name": "python",
   "nbconvert_exporter": "python",
   "pygments_lexer": "ipython3",
   "version": "3.8.8"
  }
 },
 "nbformat": 4,
 "nbformat_minor": 5
}
